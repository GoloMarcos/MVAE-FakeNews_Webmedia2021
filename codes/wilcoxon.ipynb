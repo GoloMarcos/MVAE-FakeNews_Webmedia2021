{
  "nbformat": 4,
  "nbformat_minor": 0,
  "metadata": {
    "colab": {
      "name": "wilcoxon.ipynb",
      "provenance": [],
      "collapsed_sections": []
    },
    "kernelspec": {
      "name": "python3",
      "display_name": "Python 3"
    },
    "language_info": {
      "name": "python"
    }
  },
  "cells": [
    {
      "cell_type": "code",
      "metadata": {
        "id": "kwBg3sGcMKdf"
      },
      "source": [
        "caminho = ''"
      ],
      "execution_count": null,
      "outputs": []
    },
    {
      "cell_type": "code",
      "metadata": {
        "id": "EwBXRaSvMRdY"
      },
      "source": [
        "from pathlib import Path\n",
        "import numpy as np\n",
        "import pandas as pd\n",
        "\n",
        "basepath = Path(caminho)\n",
        "files_in_basepath = basepath.iterdir()\n",
        "\n",
        "dic = {}\n",
        "\n",
        "for item in files_in_basepath:\n",
        "  if item.is_file():\n",
        "    \n",
        "    partes = item.name.split('_')\n",
        "    \n",
        "    tam = len(partes)\n",
        "    \n",
        "    base = partes[0]\n",
        "    \n",
        "    percentual = partes[tam-1].replace('.csv','')\n",
        "    \n",
        "    if partes[1] == 'BoW':\n",
        "      representacao = partes[1] + '_' + partes[2]\n",
        "    else:\n",
        "      representacao = partes[1]\n",
        "    \n",
        "    df = pd.read_csv(caminho + item.name, sep=';')\n",
        "\n",
        "    best_f1_mean = max(df['f1-score-mean'])\n",
        "\n",
        "    if representacao not in dic:\n",
        "      dic[representacao] = {}\n",
        "      dic[representacao][base] = {}\n",
        "    elif base not in dic[representacao]:\n",
        "      dic[representacao][base] = {}\n",
        "\n",
        "    dic[representacao][base][percentual] = best_f1_mean"
      ],
      "execution_count": null,
      "outputs": []
    },
    {
      "cell_type": "code",
      "metadata": {
        "id": "DDlEWFsZM2-J"
      },
      "source": [
        "dicti = {}\n",
        "for rep in dic.keys():\n",
        "  lista = []\n",
        "  for base in ['fakebr','fcn','fnn']:\n",
        "    for percent in [3,5,7,10]:\n",
        "      lista.append(dic[rep][base][str(percent)])\n",
        "  dicti[rep] = lista"
      ],
      "execution_count": null,
      "outputs": []
    },
    {
      "cell_type": "code",
      "metadata": {
        "id": "s1QxwSdjEfeH"
      },
      "source": [
        "from scipy.stats import wilcoxon"
      ],
      "execution_count": null,
      "outputs": []
    },
    {
      "cell_type": "code",
      "metadata": {
        "id": "6XzI5TblE3d9"
      },
      "source": [
        "alpha=0.05\n",
        "dic_re = {}\n",
        "for rep1 in dicti.keys():\n",
        "  dic_re[rep1] = {}\n",
        "  for rep2 in dicti.keys():\n",
        "    if rep1 != rep2:\n",
        "      stat, p = wilcoxon(dicti[rep1],dicti[rep2])\n",
        "      if p > alpha: \n",
        "        dic_re[rep1][rep2] = 0\n",
        "      else: \n",
        "        dic_re[rep1][rep2] = 1"
      ],
      "execution_count": null,
      "outputs": []
    },
    {
      "cell_type": "code",
      "metadata": {
        "colab": {
          "base_uri": "https://localhost:8080/"
        },
        "id": "w4twv4DYE9yt",
        "outputId": "2b21a8bb-7f4a-45a0-989e-95aa9f18168e"
      },
      "source": [
        "dic_re['Representation Name'] # 1 == statical diference, 0 == no statical diference"
      ],
      "execution_count": null,
      "outputs": [
        {
          "output_type": "execute_result",
          "data": {
            "text/plain": [
              "{'Autoencoder': 1,\n",
              " 'BERT': 1,\n",
              " 'BoW_binary': 1,\n",
              " 'BoW_term-frequency': 1,\n",
              " 'BoW_term-frequency-IDF': 1,\n",
              " 'DistilBERT': 1,\n",
              " 'DistilBERT Multilingua': 1,\n",
              " 'FeaturesNormalized': 1,\n",
              " 'InfDensidade': 1,\n",
              " 'MVAE': 1,\n",
              " 'RoBERTa': 1,\n",
              " 'VAE': 0}"
            ]
          },
          "metadata": {
            "tags": []
          },
          "execution_count": 63
        }
      ]
    }
  ]
}